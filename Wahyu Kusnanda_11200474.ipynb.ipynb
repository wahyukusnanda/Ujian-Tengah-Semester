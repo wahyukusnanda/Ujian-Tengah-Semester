{
  "nbformat": 4,
  "nbformat_minor": 0,
  "metadata": {
    "colab": {
      "name": "SOAL_UTS_SI.ipynb",
      "provenance": [],
      "collapsed_sections": []
    },
    "kernelspec": {
      "name": "python3",
      "display_name": "Python 3"
    },
    "language_info": {
      "name": "python"
    }
  },
  "cells": [
    {
      "cell_type": "markdown",
      "metadata": {
        "id": "207NNMC_vMNX"
      },
      "source": [
        "## Soal UTS I\n",
        "Buatlah Program dengan bahasa python untuk menampilkan nama dan NIM anda pada halaman notebook ini"
      ]
    },
    {
      "cell_type": "code",
      "metadata": {
        "id": "ayXUPo6SvaqJ",
        "outputId": "fec8d786-c31a-4566-9307-d094c8a13b48",
        "colab": {
          "base_uri": "https://localhost:8080/"
        }
      },
      "source": [
        "#Jawab\n",
        "print (\"Wahyu Kusnanda\")\n",
        "print (\"11200474\")"
      ],
      "execution_count": 1,
      "outputs": [
        {
          "output_type": "stream",
          "name": "stdout",
          "text": [
            "Wahyu Kusnanda\n",
            "11200474\n"
          ]
        }
      ]
    },
    {
      "cell_type": "markdown",
      "metadata": {
        "id": "txgZNIDhuEvS"
      },
      "source": [
        "## Soal UTS II\n",
        "\n",
        "\n",
        "Kerjakan salah satu dari dua soal berikut (Soal A atau B) sesuai dengan digit terakhir NIM anda.\n",
        "\n",
        "Jika Digit terakhir NIM anda adalah ganjil atau nol(0) kerjakanlan Soal A berikut ini\n",
        "\n",
        "**Soal A**\n",
        "\n",
        "Bualah aplikasi interaktif dengan pemrograman Python yang menerima input variable dari keyboard untuk mencari luas bangun datar lingkaran.\n",
        "\n",
        "Dengan tampilan sebagai berikut:\n",
        "```\n",
        "Masukan Diameter : \n",
        "Luas Lingkaran   :\n",
        "```\n",
        "Jika Digit terakhir NIM anda adalah genap kerjakanlan Soal B berikut ini \n",
        "\n",
        "**Soal B**\n",
        "\n",
        "Bualah aplikasi interaktif dengan pemrograman Python yang menerima input variable dari keyboard untuk mencari keliling bangun datar lingkaran.\n",
        "\n",
        "Dengan tampilan sebagai berikut:\n",
        "```\n",
        "Masukan Diameter : \n",
        "Keliling Lingkaran   :\n",
        "```"
      ]
    },
    {
      "cell_type": "markdown",
      "metadata": {
        "id": "L5pweWJ4vHe7"
      },
      "source": [
        ""
      ]
    },
    {
      "cell_type": "code",
      "metadata": {
        "id": "mJ2YcXznurKe",
        "outputId": "faeccce5-bbb3-4899-a781-7f36a78cca95",
        "colab": {
          "base_uri": "https://localhost:8080/"
        }
      },
      "source": [
        "#jawab\n",
        "print (\"Menghitung Keliling Lingkaran\")\n",
        "a=int(input(\"Masukkan diameter Lingkaran : \"))\n",
        "b=int(2)\n",
        "pembagian =a/b\n",
        "diameter = (pembagian)\n",
        "phi = 3.14\n",
        "keliling = 2 * phi * float(diameter) \n",
        "print (\"Keliling Lingkaran adalah\",keliling)\n"
      ],
      "execution_count": 2,
      "outputs": [
        {
          "output_type": "stream",
          "name": "stdout",
          "text": [
            "Menghitung Keliling Lingkaran\n",
            "Masukkan diameter Lingkaran : 20\n",
            "Keliling Lingkaran adalah 62.800000000000004\n"
          ]
        }
      ]
    }
  ]
}